{
 "cells": [
  {
   "cell_type": "markdown",
   "id": "9db9bf75",
   "metadata": {},
   "source": [
    "# Practice 1: Restaurant Strategy Decision\n",
    "## Phase 1: Intelligence - Problem Definition \"A restaurant chain must decide on an expansion strategy.\n"
   ]
  },
  {
   "cell_type": "code",
   "execution_count": 3,
   "id": "c5fd5f44",
   "metadata": {},
   "outputs": [
    {
     "name": "stdout",
     "output_type": "stream",
     "text": [
      "Phase 1: Intelligence - Problem Definition\n",
      "A restaurant chain must decide on an expansion strategy.\n",
      "\n",
      "CSV 'restaurant_decision_matrix.csv' was read successfully.\n",
      "\n"
     ]
    }
   ],
   "source": [
    "import pandas as pd\n",
    "\n",
    "# --- Phase 1: Intelligence ---\n",
    "print(\"Phase 1: Intelligence - Problem Definition\")\n",
    "print(\"A restaurant chain must decide on an expansion strategy.\\n\")\n",
    "\n",
    "\n",
    "df = pd.read_csv(\"restaurant_decision_matrix.csv\")\n",
    "print(\"CSV 'restaurant_decision_matrix.csv' was read successfully.\\n\")"
   ]
  },
  {
   "cell_type": "markdown",
   "id": "80d15da3",
   "metadata": {},
   "source": [
    "## Phase 2: Design"
   ]
  },
  {
   "cell_type": "code",
   "execution_count": 7,
   "id": "4b372622",
   "metadata": {},
   "outputs": [
    {
     "name": "stdout",
     "output_type": "stream",
     "text": [
      "Phase 2: Design - Criteria and Weights\n",
      "Weights: {'FinancialInvestment': 0.2, 'ControlQuality': 0.15, 'SpeedOfGrowth': 0.25, 'RiskLevel': 0.15, 'Scalability': 0.15, 'ProfitPotential': 0.1} \n",
      "\n"
     ]
    }
   ],
   "source": [
    "print(\"Phase 2: Design - Criteria and Weights\")\n",
    "\n",
    "# Define weights (sum to 1.0)\n",
    "weights = {\n",
    "    \"FinancialInvestment\": 0.2,\n",
    "    \"ControlQuality\": 0.15,\n",
    "    \"SpeedOfGrowth\": 0.25,\n",
    "    \"RiskLevel\": 0.15,\n",
    "    \"Scalability\": 0.15,\n",
    "    \"ProfitPotential\": 0.10\n",
    "}\n",
    "\n",
    "print(\"Weights:\", weights, \"\\n\")\n"
   ]
  },
  {
   "cell_type": "markdown",
   "id": "4ff644af",
   "metadata": {},
   "source": [
    "## Phase 3: Choice"
   ]
  },
  {
   "cell_type": "code",
   "execution_count": 10,
   "id": "cd6ebb0b",
   "metadata": {},
   "outputs": [
    {
     "name": "stdout",
     "output_type": "stream",
     "text": [
      "Phase 3: Choice - Scoring Alternatives\n",
      "                Alternative  WeightedScore\n",
      "2  Aggressive Company-Owned           0.94\n",
      "4                    Hybrid           0.70\n",
      "3               Franchising           0.69\n",
      "1     Gradual Company-Owned           0.63\n",
      "0              No Expansion           0.39 \n",
      "\n"
     ]
    }
   ],
   "source": [
    "print(\"Phase 3: Choice - Scoring Alternatives\")\n",
    "\n",
    "# Normalize and compute weighted score\n",
    "for col in list(weights.keys()):\n",
    "    df[col + \"_Norm\"] = df[col] / df[col].max()\n",
    "\n",
    "df[\"WeightedScore\"] = sum(df[col + \"_Norm\"] * w for col, w in weights.items())\n",
    "df_sorted = df.sort_values(by=\"WeightedScore\", ascending=False)\n",
    "\n",
    "print(df_sorted[[\"Alternative\", \"WeightedScore\"]], \"\\n\")"
   ]
  },
  {
   "cell_type": "markdown",
   "id": "a81a9c73",
   "metadata": {},
   "source": [
    "## Phase 4: Implementation"
   ]
  },
  {
   "cell_type": "code",
   "execution_count": 12,
   "id": "4853368e",
   "metadata": {},
   "outputs": [
    {
     "name": "stdout",
     "output_type": "stream",
     "text": [
      "Phase 4: Implementation - Selected Alternative\n",
      "✅ Recommended Decision: Aggressive Company-Owned\n"
     ]
    }
   ],
   "source": [
    "best_choice = df_sorted.iloc[0][\"Alternative\"]\n",
    "print(\"Phase 4: Implementation - Selected Alternative\")\n",
    "print(f\"✅ Recommended Decision: {best_choice}\")"
   ]
  }
 ],
 "metadata": {
  "kernelspec": {
   "display_name": "Python 3",
   "language": "python",
   "name": "python3"
  },
  "language_info": {
   "codemirror_mode": {
    "name": "ipython",
    "version": 3
   },
   "file_extension": ".py",
   "mimetype": "text/x-python",
   "name": "python",
   "nbconvert_exporter": "python",
   "pygments_lexer": "ipython3",
   "version": "3.12.8"
  }
 },
 "nbformat": 4,
 "nbformat_minor": 5
}
